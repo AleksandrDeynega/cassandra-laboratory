{
 "cells": [
  {
   "cell_type": "code",
   "execution_count": 1,
   "metadata": {},
   "outputs": [],
   "source": [
    "import pandas as pd \n",
    "import numpy as np\n",
    "\n",
    "import warnings\n",
    "warnings.simplefilter(\"ignore\")\n",
    "    \n",
    "from cassandra import ConsistencyLevel\n",
    "from cassandra.cluster import Cluster\n",
    "from cassandra.query import SimpleStatement\n",
    "from cassandra.policies import DCAwareRoundRobinPolicy\n",
    "KEYSPACE = \"crimesdb\"\n",
    "BASIC_TABLE = \"mytable\"\n",
    "\n",
    "cluster = Cluster(['127.0.0.1'], port=9042, load_balancing_policy=DCAwareRoundRobinPolicy())\n",
    "session = cluster.connect()\n",
    "\n",
    "session.set_keyspace(KEYSPACE)\n",
    "    \n",
    "    \n",
    "def select_count(session, col_to_group_by=None):\n",
    "    return session.execute('''SELECT {col_to_group_by}, count(event_number) \n",
    "                              FROM crimes_{col_to_group_by}_event_number\n",
    "                              GROUP BY {col_to_group_by};'''\n",
    "                             .format(col_to_group_by=col_to_group_by))\n",
    "\n",
    "def select_count_where(session, col_to_group_by=None, value=None):\n",
    "    return session.execute('''SELECT {col_to_group_by}, count(event_number) \n",
    "                              FROM crimes_{col_to_group_by}_event_number\n",
    "                              WHERE  {col_to_group_by} = {value};'''\n",
    "                             .format(col_to_group_by=col_to_group_by, value=value))"
   ]
  },
  {
   "cell_type": "code",
   "execution_count": 2,
   "metadata": {},
   "outputs": [
    {
     "data": {
      "text/html": [
       "        <script type=\"text/javascript\">\n",
       "        window.PlotlyConfig = {MathJaxConfig: 'local'};\n",
       "        if (window.MathJax) {MathJax.Hub.Config({SVG: {font: \"STIX-Web\"}});}\n",
       "        if (typeof require !== 'undefined') {\n",
       "        require.undef(\"plotly\");\n",
       "        requirejs.config({\n",
       "            paths: {\n",
       "                'plotly': ['https://cdn.plot.ly/plotly-latest.min']\n",
       "            }\n",
       "        });\n",
       "        require(['plotly'], function(Plotly) {\n",
       "            window._Plotly = Plotly;\n",
       "        });\n",
       "        }\n",
       "        </script>\n",
       "        "
      ]
     },
     "metadata": {},
     "output_type": "display_data"
    },
    {
     "data": {
      "application/vnd.jupyter.widget-view+json": {
       "model_id": "da193f1ce7b24111a94e44d949842c02",
       "version_major": 2,
       "version_minor": 0
      },
      "text/html": [
       "<p>Failed to display Jupyter Widget of type <code>interactive</code>.</p>\n",
       "<p>\n",
       "  If you're reading this message in the Jupyter Notebook or JupyterLab Notebook, it may mean\n",
       "  that the widgets JavaScript is still loading. If this message persists, it\n",
       "  likely means that the widgets JavaScript library is either not installed or\n",
       "  not enabled. See the <a href=\"https://ipywidgets.readthedocs.io/en/stable/user_install.html\">Jupyter\n",
       "  Widgets Documentation</a> for setup instructions.\n",
       "</p>\n",
       "<p>\n",
       "  If you're reading this message in another frontend (for example, a static\n",
       "  rendering on GitHub or <a href=\"https://nbviewer.jupyter.org/\">NBViewer</a>),\n",
       "  it may mean that your frontend doesn't currently support widgets.\n",
       "</p>\n"
      ],
      "text/plain": [
       "interactive(children=(Dropdown(description=u'GROUP BY', options=('hour', 'priority', 'incident_type'), value='hour'), Button(description=u'Run Interact', style=ButtonStyle()), Output()), _dom_classes=('widget-interact',))"
      ]
     },
     "metadata": {},
     "output_type": "display_data"
    }
   ],
   "source": [
    "from ipywidgets import interact, interactive, fixed, interact_manual, widgets\n",
    "import plotly.graph_objs as go\n",
    "from plotly.offline import init_notebook_mode, iplot\n",
    "init_notebook_mode(connected=True)\n",
    "\n",
    "\n",
    "@interact_manual(col_to_group_by= widgets.Dropdown(\n",
    "                           options=['hour', 'priority', 'incident_type'],\n",
    "                           value='hour',\n",
    "                           description='GROUP BY',\n",
    "                           disabled=False))\n",
    "def plot_aggregation(col_to_group_by):\n",
    "    \n",
    "    rows = list(select_count(session, col_to_group_by=col_to_group_by))\n",
    "    x = [row[0] for row in rows]\n",
    "    if col_to_group_by == 'hour':\n",
    "        x = pd.to_datetime(x)\n",
    "    y = [row[1] for row in rows]\n",
    "    \n",
    "    trace = go.Bar(x=x,\n",
    "                   y=y)\n",
    "    layout = go.Layout(title='Crimes amount by {}'.format(col_to_group_by),\n",
    "                      xaxis=dict(title=col_to_group_by),)\n",
    "    fig = go.Figure(data=[trace], layout=layout)\n",
    "\n",
    "    iplot(fig)"
   ]
  },
  {
   "cell_type": "code",
   "execution_count": 3,
   "metadata": {},
   "outputs": [
    {
     "data": {
      "application/vnd.jupyter.widget-view+json": {
       "model_id": "dfb2ee67159c4f23ba2dc5868f25c7fd",
       "version_major": 2,
       "version_minor": 0
      },
      "text/html": [
       "<p>Failed to display Jupyter Widget of type <code>interactive</code>.</p>\n",
       "<p>\n",
       "  If you're reading this message in the Jupyter Notebook or JupyterLab Notebook, it may mean\n",
       "  that the widgets JavaScript is still loading. If this message persists, it\n",
       "  likely means that the widgets JavaScript library is either not installed or\n",
       "  not enabled. See the <a href=\"https://ipywidgets.readthedocs.io/en/stable/user_install.html\">Jupyter\n",
       "  Widgets Documentation</a> for setup instructions.\n",
       "</p>\n",
       "<p>\n",
       "  If you're reading this message in another frontend (for example, a static\n",
       "  rendering on GitHub or <a href=\"https://nbviewer.jupyter.org/\">NBViewer</a>),\n",
       "  it may mean that your frontend doesn't currently support widgets.\n",
       "</p>\n"
      ],
      "text/plain": [
       "interactive(children=(Dropdown(description=u'GROUP BY', options=('hour', 'priority', 'incident_type'), value='hour'), Text(value=u'14:00', description=u'WHERE = ', placeholder=u'Type something'), Button(description=u'Run Interact', style=ButtonStyle()), Output()), _dom_classes=('widget-interact',))"
      ]
     },
     "metadata": {},
     "output_type": "display_data"
    }
   ],
   "source": [
    "@interact_manual(col_to_group_by= widgets.Dropdown(\n",
    "                           options=['hour', 'priority', 'incident_type'],\n",
    "                           value='hour',\n",
    "                           description='GROUP BY',\n",
    "                           disabled=False),\n",
    "         value= widgets.Text(\n",
    "                value='14:00',\n",
    "                placeholder='Type something',\n",
    "                description='WHERE = ',\n",
    "                disabled=False))\n",
    "def plot_aggregation(col_to_group_by, value):\n",
    "    if col_to_group_by != 'priority':\n",
    "        value = \"'{}'\".format(value)\n",
    "    rows = list(select_count_where(session, col_to_group_by=col_to_group_by, value=value))\n",
    "    print 'RESULT:', rows[0][1]\n"
   ]
  }
 ],
 "metadata": {
  "kernelspec": {
   "display_name": "Python 3",
   "language": "python",
   "name": "python3"
  },
  "language_info": {
   "codemirror_mode": {
    "name": "ipython",
    "version": 2
   },
   "file_extension": ".py",
   "mimetype": "text/x-python",
   "name": "python",
   "nbconvert_exporter": "python",
   "pygments_lexer": "ipython2",
   "version": "2.7.14"
  }
 },
 "nbformat": 4,
 "nbformat_minor": 2
}
